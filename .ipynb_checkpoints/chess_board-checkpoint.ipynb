{
 "cells": [
  {
   "cell_type": "code",
   "execution_count": 31,
   "metadata": {},
   "outputs": [
    {
     "name": "stdout",
     "output_type": "stream",
     "text": [
      "True\n"
     ]
    },
    {
     "data": {
      "image/png": "[encoded data removed]",
      "text/plain": [
       "<Figure size 432x288 with 1 Axes>"
      ]
     },
     "metadata": {
      "needs_background": "light"
     },
     "output_type": "display_data"
    }
   ],
   "source": [
    "import numpy as np\n",
    "import matplotlib.pyplot as plt\n",
    "class Chess_Board:\n",
    "    def __init__(self):\n",
    "        self.red_row = None\n",
    "        self.red_col = None\n",
    "        self.blue_row = None\n",
    "        self.blue_col = None\n",
    "        self.grid = np.zeros((8,8,3))\n",
    "        for row in range(8):\n",
    "            for col in range(8):\n",
    "                if row%2 == 0:\n",
    "                    self.grid[row][col] = np.array([1,1,1])*col%2\n",
    "                else:\n",
    "                    self.grid[row][col] = np.array([1,1,1])*((col+1)%2)\n",
    "    def add_red(self,row,col):\n",
    "        self.red_row = row\n",
    "        self.red_col = col\n",
    "        self.grid[row][col] = [1,0,0]\n",
    "    def add_blue(self,row,col):\n",
    "        self.blue_row = row\n",
    "        self.blue_col = col\n",
    "        self.grid[row][col] = [0,0,1]\n",
    "    def render(self):\n",
    "        plt.imshow(self.grid)\n",
    "    def is_under_attack(self):\n",
    "        under_attack = False\n",
    "        if self.blue_row == self.red_row:\n",
    "            under_attack = True\n",
    "        elif self.blue_col == self.red_col:\n",
    "            under_attack = True\n",
    "        elif abs(self.blue_row - self.red_row) == abs(self.blue_col - self.red_col):\n",
    "            under_attack = True\n",
    "        return under_attack\n",
    "        \n",
    "ch = Chess_Board()\n",
    "ch.add_red(0,3)\n",
    "ch.add_blue(2,5)\n",
    "ch.render()\n",
    "print(ch.is_under_attack())"
   ]
  },
  {
   "cell_type": "code",
   "execution_count": 3,
   "metadata": {},
   "outputs": [
    {
     "name": "stdout",
     "output_type": "stream",
     "text": [
      "cl\n"
     ]
    }
   ],
   "source": []
  },
  {
   "cell_type": "code",
   "execution_count": null,
   "metadata": {},
   "outputs": [],
   "source": []
  },
  {
   "cell_type": "code",
   "execution_count": null,
   "metadata": {},
   "outputs": [],
   "source": []
  },
  {
   "cell_type": "code",
   "execution_count": null,
   "metadata": {},
   "outputs": [],
   "source": []
  },
  {
   "cell_type": "code",
   "execution_count": null,
   "metadata": {},
   "outputs": [],
   "source": []
  },
  {
   "cell_type": "code",
   "execution_count": null,
   "metadata": {},
   "outputs": [],
   "source": []
  },
  {
   "cell_type": "code",
   "execution_count": null,
   "metadata": {},
   "outputs": [],
   "source": []
  },
  {
   "cell_type": "code",
   "execution_count": null,
   "metadata": {},
   "outputs": [],
   "source": []
  }
 ],
 "metadata": {
  "kernelspec": {
   "display_name": "Python 3",
   "language": "python",
   "name": "python3"
  },
  "language_info": {
   "codemirror_mode": {
    "name": "ipython",
    "version": 3
   },
   "file_extension": ".py",
   "mimetype": "text/x-python",
   "name": "python",
   "nbconvert_exporter": "python",
   "pygments_lexer": "ipython3",
   "version": "3.8.5"
  },
  "metadata": {
   "interpreter": {
    "hash": "7d6993cb2f9ce9a59d5d7380609d9cb5192a9dedd2735a011418ad9e827eb538"
   }
  }
 },
 "nbformat": 4,
 "nbformat_minor": 4
}
